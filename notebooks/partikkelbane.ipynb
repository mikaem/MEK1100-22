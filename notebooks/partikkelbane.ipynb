{
 "cells": [
  {
   "cell_type": "markdown",
   "metadata": {},
   "source": [
    "# Partikkel skytes i tyngdefeltet\n",
    "\n",
    "En partikkel skytes ut i tyngdefeltet med fart $v_0=|\\vec{v}(0)|$ i en retning som danner en vinkel $\\alpha$ med horisontalen (z-aksen). Vi antar at det kun er tyngdekraften som virker, så Newton's annen lov gir oss at \n",
    "\n",
    "$$\n",
    "\\begin{equation}\n",
    "m \\vec{a} = -mg \\mathbf{k},\n",
    "\\end{equation}\n",
    "$$\n",
    "\n",
    "der $m$ er massen til partikkelen. Vi kan se bort ifra massen siden vi kan dele begge sider på $m$.\n",
    "\n",
    "<img src='partikkelskytes.png' width=600>"
   ]
  },
  {
   "cell_type": "markdown",
   "metadata": {},
   "source": [
    "Vi kan integrere Newton's annen low to ganger og finne posisjonen $\\vec{r}(t)=x \\mathbf{i} + z \\mathbf{k}$ for partikkelen. Bruker først at $\\vec{a}=d\\vec{v}/dt$ slik at vi får\n",
    "\n",
    "$$\n",
    "\\begin{equation}\n",
    "\\frac{d \\vec{v}}{dt} = -g\\mathbf{k}.\n",
    "\\end{equation}\n",
    "$$\n",
    "\n",
    "Integrerer opp og får\n",
    "\n",
    "$$\n",
    "\\begin{equation}\n",
    "\\vec{v}(t) - \\vec{v}(0) = -g t \\mathbf{k}.\n",
    "\\end{equation}\n",
    "$$"
   ]
  },
  {
   "cell_type": "markdown",
   "metadata": {},
   "source": [
    "Bruker så at $\\vec{v} = d \\vec{r} / dt$ og integrerer på samme måte fra\n",
    "\n",
    "$$\n",
    "\\begin{equation}\n",
    "\\frac{d \\vec{r}}{dt} = \\vec{v}(0) - g t \\mathbf{k}.\n",
    "\\end{equation}\n",
    "$$\n",
    "\n",
    "Ender opp med at\n",
    "\n",
    "$$\n",
    "\\begin{equation}\n",
    "\\vec{r}(t) - \\vec{r}(0) = \\vec{v}(0) t - \\frac{1}{2}g t^2 \\mathbf{k},\n",
    "\\end{equation}\n",
    "$$\n",
    "\n",
    "der vi kan ta bort $\\vec{r}(0)$ siden vi regner at utskytningen starter i origo. \n",
    "\n",
    "Vektoren $\\vec{v}(0)$ kan dekomponeres langs $x$ og $y$-akser ved å bruke vinkelen $\\alpha$. Får at \n",
    "\n",
    "$$\n",
    "\\begin{equation}\n",
    "\\vec{v}(0) = v_0 \\cos(\\alpha) \\mathbf{i} + v_0 \\sin(\\alpha) \\mathbf{k},\n",
    "\\end{equation}\n",
    "$$\n",
    "\n",
    "og dermed har vi funnet posisjonsvektoren $\\vec{r}$ med komponenter\n",
    "\n",
    "$$\n",
    "\\begin{align}\n",
    "  x &= v_0 \\cos(\\alpha) t,\\\\\n",
    "  z &= v_0 \\sin(\\alpha) t - \\frac{1}{2}gt^2.\n",
    "\\end{align}\n",
    "$$\n",
    "\n",
    "slik at posisjonsvektoren blir\n",
    "\n",
    "$$\n",
    "\\begin{align}\n",
    "\\vec{r}(t) &= x(t) \\mathbf{i} + z(t) \\mathbf{k}, \\notag\\\\\n",
    "           &= v_0 \\cos(\\alpha) t \\mathbf{i} + (v_0 \\sin(\\alpha) t - \\frac{1}{2}gt^2) \\mathbf{k}.\n",
    "\\end{align}\n",
    "$$\n",
    "\n",
    "Hastighetsvektoren kan også samles sammen til\n",
    "\n",
    "$$\n",
    "\\begin{equation}\n",
    "\\label{eq:v}\n",
    "\\vec{v}(t) = v_0 \\cos(\\alpha) \\mathbf{i} + (v_0 \\sin(\\alpha) - gt) \\mathbf{k}.\n",
    "\\end{equation}\n",
    "$$"
   ]
  },
  {
   "cell_type": "markdown",
   "metadata": {},
   "source": [
    "Vi skal nå modellere dette med et interaktivt plot som viser partikkelbanen og vektoren. Til dette trenger vi å gjøre et par observasjoner. \n",
    "\n",
    " 1. Hva er domenet til partikkelen?\n",
    "   1. Hvor høyt skytes partikkelen?\n",
    "   2. Hvor lang tid tar det før den kommer ned igjen?\n",
    "\n",
    "Finner svar på A ved å se på når hastigheten i z-retningen er lik null (fra $z$-komponenten til $\\vec{v}$ over)\n",
    "\n",
    "$$\n",
    "\\begin{align*}\n",
    "v_0 \\sin(\\alpha) - g t_0 &= 0 \\\\\n",
    "t_0 &= \\frac{v_0 \\sin(\\alpha)}{g}.\n",
    "\\end{align*}\n",
    "$$"
   ]
  },
  {
   "cell_type": "markdown",
   "metadata": {},
   "source": [
    "Høyden ved $t_0$ er gitt ved $z(t_0)$, som vi kaller $H$\n",
    "\n",
    "$$\n",
    "z(t_0) = H = \\frac{(v_0 \\sin(\\alpha))^2}{2 g}\n",
    "$$\n",
    "\n",
    "Så domenet for $z$ må være minst $[0, H]$ for å få med hele partikkelbanen. \n",
    "\n",
    "Tiden det tar for partikkelen å komme ned igjen finner vi ved å løse $z(t) = 0$\n",
    "\n",
    "$$\n",
    "\\begin{align*}\n",
    "v_0 \\sin(\\alpha) t - \\frac{1}{2}gt^2 &= 0 \\\\\n",
    "t\\left(v_0 \\sin(\\alpha) - \\frac{1}{2}g t \\right) &= 0\n",
    "\\end{align*}\n",
    "$$"
   ]
  },
  {
   "cell_type": "markdown",
   "metadata": {},
   "source": [
    "som løses enkelt til\n",
    "\n",
    "$$\n",
    "t = 0 \\lor t = \\frac{2 v_0 \\sin(\\alpha)}{g}\n",
    "$$\n",
    "\n",
    "Vi kaller tiden da partikkelen igjen treffer bakken ($z=0$) for $T=2 v_0 \\sin(\\alpha)/g$. Vi innser at simuleringen må gå minst i $t \\in [0, T]$.\n",
    "\n",
    "Vi finner domenenet for $x$-aksen ved å sette sluttiden inn i uttrykket for $x$\n",
    "\n",
    "$$\n",
    "x\\left(T\\right) = v_0 \\cos(\\alpha) T.\n",
    "$$\n",
    "\n",
    "Så $x$-domenet blir $[0, v_0 \\cos(\\alpha) T]$.\n",
    "\n",
    "Da er vi klare til å starte plottingen!\n",
    "\n",
    "Vi starter med å importere verktøyene vi trenger. Vi vil lage et interaktivt plot som viser partikkelen langs en bane. Da kan vi bruke [ipywidgets](https://ipywidgets.readthedocs.io/en/latest/)."
   ]
  },
  {
   "cell_type": "code",
   "execution_count": 1,
   "metadata": {},
   "outputs": [],
   "source": [
    "from ipywidgets import interact\n",
    "import matplotlib.pyplot as plt\n",
    "import numpy as np"
   ]
  },
  {
   "cell_type": "code",
   "execution_count": 2,
   "metadata": {},
   "outputs": [],
   "source": [
    "%matplotlib inline\n",
    "\n",
    "g = 9.81\n",
    "v0 = 10\n",
    "a = np.pi/4\n",
    "T = 2*v0*np.sin(a)/g\n",
    "N = 100 # Bruker interval med N punkter\n",
    "t0 = np.linspace(0, T*1.1, N) "
   ]
  },
  {
   "cell_type": "code",
   "execution_count": 3,
   "metadata": {},
   "outputs": [
    {
     "data": {
      "application/vnd.jupyter.widget-view+json": {
       "model_id": "9446ee4285814a2ba72e2e0163e04ed9",
       "version_major": 2,
       "version_minor": 0
      },
      "text/plain": [
       "interactive(children=(FloatSlider(value=0.7208020195581524, description='t', max=1.4416040391163047, step=0.07…"
      ]
     },
     "metadata": {},
     "output_type": "display_data"
    },
    {
     "data": {
      "text/plain": [
       "<function __main__.partikkelbane(t)>"
      ]
     },
     "execution_count": 3,
     "metadata": {},
     "output_type": "execute_result"
    }
   ],
   "source": [
    "# Beregner hele partikkelbanen først\n",
    "x0 = v0*np.cos(a)*t0\n",
    "z0 = v0*np.sin(a)*t0 - 0.5*g*t0**2\n",
    "    \n",
    "def partikkelbane(t):    \n",
    "    # plot hele partikkelbanen\n",
    "    plt.figure()\n",
    "    plt.plot(x0, z0, 'b')\n",
    "    \n",
    "    # plot partikkelen\n",
    "    x = v0*np.cos(a)*t\n",
    "    z = v0*np.sin(a)*t - 0.5*g*t**2\n",
    "    plt.plot(x, z, 'ok')\n",
    "    \n",
    "    # plot en hastighetsvektor ved t0 og t\n",
    "    plt.arrow(0, 0, v0*np.cos(a)*T/4, v0*np.sin(a)*T/4, head_width=v0*T/100)\n",
    "    plt.arrow(x, z, v0*np.cos(a)*T/4, (v0*np.sin(a)-g*t)*T/4, head_width=v0*T/100)\n",
    "    \n",
    "    # posisjonsvektor\n",
    "    plt.arrow(0, 0, x, z, length_includes_head=True)\n",
    "    \n",
    "    plt.ylim(z0.min(), 2*z0.max())\n",
    "    \n",
    "    plt.text(0.25*v0*np.cos(a), 0.3*v0*np.sin(a), r'$\\vec{v}(0)$')\n",
    "    plt.text(x+0.25*v0*np.cos(a), z+0.2*(v0*np.sin(a)-g*t), r'$\\vec{v}(t)$')\n",
    "    plt.text(0.5*x, 0.4*z, r'$\\vec{r}(t)$')\n",
    "    \n",
    "    plt.show()\n",
    "    \n",
    "interact(partikkelbane, t=(0, T, T/20))"
   ]
  },
  {
   "cell_type": "markdown",
   "metadata": {},
   "source": [
    "Vi kan nå beregne buelengden, eller strekningen partikkelen tilbakelegger, ved å integrere numerisk\n",
    "\n",
    "$$\n",
    "\\begin{equation}\n",
    "L = \\int_{0}^{t_m}|\\vec{v}(t)|dt\n",
    "\\end{equation}\n",
    "$$\n",
    "\n",
    "Numerisk integrasjon kan gjøres i `numpy` ved å bruke trapes-metoden [trapz](https://docs.scipy.org/doc/numpy/reference/generated/numpy.trapz.html). Den krever som input funksjonsverdiene $|\\vec{v}(t_i)|$ og punktene der funksjonsverdiene er samplet, her $t_i=i T/(N-1)$ for $i=0, 1, \\ldots, N-1$ og vi har brukt $N=100$ punkter i koden over.  "
   ]
  },
  {
   "cell_type": "code",
   "execution_count": 4,
   "metadata": {},
   "outputs": [
    {
     "name": "stdout",
     "output_type": "stream",
     "text": [
      "Buelengden er 11.700\n"
     ]
    }
   ],
   "source": [
    "t0 = np.linspace(0, T, N) \n",
    "x0 = v0*np.cos(a)*t0\n",
    "z0 = v0*np.sin(a)*t0 - 0.5*g*t0**2\n",
    "L = np.trapz(np.sqrt((v0*np.cos(a))**2 + (v0*np.sin(a) - g*t0)**2), t0)     \n",
    "print('Buelengden er %2.3f'%(L))"
   ]
  },
  {
   "cell_type": "markdown",
   "metadata": {},
   "source": [
    "# Sympy\n",
    "\n",
    "Vi skal nå gjøre samme implemetering ved å benytte [sympy](https://sympy.org) for eksakt symbolsk manipulering av vektorer. Til det skal vi bruke `sympy` sin `vector`-modul som inneholder en klasse for et koordinatsystem `CoordSys3D`."
   ]
  },
  {
   "cell_type": "code",
   "execution_count": 5,
   "metadata": {},
   "outputs": [],
   "source": [
    "import sympy as sp\n",
    "from sympy.vector import CoordSys3D"
   ]
  },
  {
   "cell_type": "markdown",
   "metadata": {},
   "source": [
    "Vi antar nå først at både `v0,a` og `t` er variable"
   ]
  },
  {
   "cell_type": "code",
   "execution_count": 6,
   "metadata": {},
   "outputs": [
    {
     "name": "stdout",
     "output_type": "stream",
     "text": [
      "(t*v0*cos(a))*N.i + (-4.905*t**2 + t*v0*sin(a))*N.k\n",
      "(v0*cos(a))*N.i + (-9.81*t + v0*sin(a))*N.k\n"
     ]
    }
   ],
   "source": [
    "g = 9.81\n",
    "v0, a, t = sp.symbols('v0,a,t')\n",
    "N = CoordSys3D('N')\n",
    "\n",
    "x = v0*sp.cos(a)*t \n",
    "z = v0*sp.sin(a)*t - 0.5*g*t**2\n",
    "\n",
    "# Definer posisjonsvektoren\n",
    "r = x*N.i + z*N.k\n",
    "\n",
    "# Deriver mhp t for å finne hastigheten\n",
    "v = sp.diff(r, t)\n",
    "\n",
    "print(r)\n",
    "print(v)"
   ]
  },
  {
   "cell_type": "code",
   "execution_count": 7,
   "metadata": {},
   "outputs": [],
   "source": [
    "# Legg parametre i dictionary\n",
    "v0 = 10\n",
    "a = np.pi/4\n",
    "d = {'v0': v0, 'a': a}\n",
    "T = 2*v0*np.sin(a)/g\n",
    "\n",
    "# Redefiner variable med disse parameterne\n",
    "x = x.subs(d)\n",
    "z = z.subs(d)\n",
    "r = r.subs(d)\n",
    "v = v.subs(d)\n",
    "\n",
    "# Gjør x og z kallbare funksjoner for numpy-arrays\n",
    "x = sp.lambdify(t, x)\n",
    "z = sp.lambdify(t, z)\n",
    "\n",
    "# Evaluer x og z for hele tidsdomenet\n",
    "t0 = np.linspace(0, T*1.1, 100)\n",
    "\n",
    "x0 = x(t0)\n",
    "z0 = z(t0)\n",
    "vx0 = np.float(v.subs(t, 0).dot(N.i))\n",
    "vz0 = np.float(v.subs(t, 0).dot(N.k))"
   ]
  },
  {
   "cell_type": "code",
   "execution_count": 8,
   "metadata": {},
   "outputs": [
    {
     "data": {
      "application/vnd.jupyter.widget-view+json": {
       "model_id": "4f06115d381347e8bd9324c47beb391b",
       "version_major": 2,
       "version_minor": 0
      },
      "text/plain": [
       "interactive(children=(FloatSlider(value=0.7928822215139677, description='t', max=1.5857644430279354, step=0.07…"
      ]
     },
     "metadata": {},
     "output_type": "display_data"
    },
    {
     "data": {
      "text/plain": [
       "<function __main__.partikkelbane(t)>"
      ]
     },
     "execution_count": 8,
     "metadata": {},
     "output_type": "execute_result"
    }
   ],
   "source": [
    "%matplotlib inline\n",
    "    \n",
    "def partikkelbane(t):    \n",
    "    # plot hele partikkelbanen\n",
    "    plt.figure()\n",
    "    plt.plot(x0, z0, 'b')\n",
    "    \n",
    "    # plot partikkelen\n",
    "    plt.plot(x(t), z(t), 'ok')\n",
    "    \n",
    "    # plot en hastighetsvektor ved t0 og t\n",
    "    vx = np.float(v.subs('t', t).dot(N.i))\n",
    "    vz = np.float(v.subs('t', t).dot(N.k))\n",
    "    scale = T/4\n",
    "    plt.arrow(0, 0, vx0*scale, vz0*scale, head_width=v0*T/100)\n",
    "    plt.arrow(x(t), z(t), vx*scale, vz*scale, head_width=v0*T/100)\n",
    "    \n",
    "    # plot posisjonsvektor\n",
    "    plt.arrow(0, 0, x(t), z(t), head_width=v0*T/100, length_includes_head=True)\n",
    "    \n",
    "    plt.ylim(z0.min(), 2*z0.max())\n",
    "    \n",
    "    plt.text(0.25*vx0, 0.3*vz0, r'$\\vec{v}(0)$')\n",
    "    plt.text(x(t)+0.25*vx0, z(t)+0.2*vz, r'$\\vec{v}(t)$')\n",
    "    plt.text(0.5*x(t), 0.4*z(t), r'$\\vec{r}(t)$')\n",
    "    \n",
    "    plt.show()\n",
    "    \n",
    "interact(partikkelbane, t=(0, T*1.1, T*1.1/20))"
   ]
  },
  {
   "cell_type": "code",
   "execution_count": 9,
   "metadata": {},
   "outputs": [
    {
     "name": "stdout",
     "output_type": "stream",
     "text": [
      "Buelengde = 11.7002\n"
     ]
    }
   ],
   "source": [
    "Ls = sp.Integral(sp.sqrt(v.dot(v)), (t, 0, T)).evalf()\n",
    "print('Buelengde = %2.4f'%(Ls))"
   ]
  }
 ],
 "metadata": {
  "kernelspec": {
   "display_name": "Python 3",
   "language": "python",
   "name": "python3"
  },
  "language_info": {
   "codemirror_mode": {
    "name": "ipython",
    "version": 3
   },
   "file_extension": ".py",
   "mimetype": "text/x-python",
   "name": "python",
   "nbconvert_exporter": "python",
   "pygments_lexer": "ipython3",
   "version": "3.8.6"
  },
  "toc": {
   "base_numbering": 1,
   "nav_menu": {},
   "number_sections": false,
   "sideBar": true,
   "skip_h1_title": false,
   "title_cell": "Table of Contents",
   "title_sidebar": "Contents",
   "toc_cell": false,
   "toc_position": {},
   "toc_section_display": true,
   "toc_window_display": false
  }
 },
 "nbformat": 4,
 "nbformat_minor": 2
}
