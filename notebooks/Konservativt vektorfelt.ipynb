{
 "cells": [
  {
   "cell_type": "markdown",
   "metadata": {},
   "source": [
    "Vi har et vektorfelt\n",
    "\n",
    "$$\n",
    "\\vec{F} = y \\mathbf{i} + x \\mathbf{j} + z \\mathbf{k}\n",
    "$$\n",
    "\n",
    "Er vektorfeltet $\\vec{F}$ konservativt?\n",
    "\n",
    "Vi ser på kurveintegralet\n",
    "\n",
    "$$\n",
    "\\int_{C_i} \\vec{F} \\cdot d\\vec{r}\n",
    "$$\n",
    "\n",
    "mellom punktene $A=(0, 0, 0)$ og $B=(1,1,2)$, langs to forskjellige baner gitt ved \n",
    "\n",
    "$$\n",
    "C_1 : \\begin{cases} \n",
    "   x(t) = t \\\\\n",
    "   y(t) = t  \\\\\n",
    "   z(t) = 2t^2\n",
    "   \\end{cases},\n",
    "   \\quad \\quad\n",
    "C_2 : \\begin{cases} \n",
    "   x(t) = t \\\\\n",
    "   y(t) = t^2  \\\\\n",
    "   z(t) = 2t\n",
    "   \\end{cases},\n",
    "   \\quad \\quad t\\in [0, 1].\n",
    "$$\n",
    "\n",
    "Dette tilsvarer posisjonsvektorene\n",
    "$$\n",
    "\\vec{r_1} = t \\mathbf{i} + t \\mathbf{j} + 2t^2 \\mathbf{k}, \\quad \\quad \\vec{r_2} = t \\mathbf{i} + t^2 \\mathbf{j} + 2t \\mathbf{k}, \\quad \\quad t\\in [0, 1].\n",
    "$$\n",
    "\n",
    "Hvis $\\int_{C_i} \\vec{F} \\cdot d\\vec{r}$ er uavhengig av vei, så er vektorfeltet $\\vec{F}$ konservativt."
   ]
  }
 ],
 "metadata": {
  "kernelspec": {
   "display_name": "Python 3 (ipykernel)",
   "language": "python",
   "name": "python3"
  },
  "language_info": {
   "codemirror_mode": {
    "name": "ipython",
    "version": 3
   },
   "file_extension": ".py",
   "mimetype": "text/x-python",
   "name": "python",
   "nbconvert_exporter": "python",
   "pygments_lexer": "ipython3",
   "version": "3.7.4"
  },
  "toc": {
   "base_numbering": 1,
   "nav_menu": {},
   "number_sections": false,
   "sideBar": true,
   "skip_h1_title": false,
   "title_cell": "Table of Contents",
   "title_sidebar": "Contents",
   "toc_cell": false,
   "toc_position": {},
   "toc_section_display": true,
   "toc_window_display": false
  }
 },
 "nbformat": 4,
 "nbformat_minor": 2
}
